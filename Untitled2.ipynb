{
  "nbformat": 4,
  "nbformat_minor": 0,
  "metadata": {
    "colab": {
      "provenance": [],
      "authorship_tag": "ABX9TyN4Xath3uESXm3XHX8uJ0qo",
      "include_colab_link": true
    },
    "kernelspec": {
      "name": "python3",
      "display_name": "Python 3"
    },
    "language_info": {
      "name": "python"
    }
  },
  "cells": [
    {
      "cell_type": "markdown",
      "metadata": {
        "id": "view-in-github",
        "colab_type": "text"
      },
      "source": [
        "<a href=\"https://colab.research.google.com/github/jaider4567/workshop-3/blob/main/Untitled2.ipynb\" target=\"_parent\"><img src=\"https://colab.research.google.com/assets/colab-badge.svg\" alt=\"Open In Colab\"/></a>"
      ]
    },
    {
      "cell_type": "code",
      "execution_count": null,
      "metadata": {
        "colab": {
          "base_uri": "https://localhost:8080/"
        },
        "id": "oElmdqBFzBym",
        "outputId": "fe011fbc-de5d-4905-83ca-78614d78f218"
      },
      "outputs": [
        {
          "output_type": "stream",
          "name": "stdout",
          "text": [
            "Requirement already satisfied: pip in /usr/local/lib/python3.10/dist-packages (23.1.2)\n",
            "Collecting pip\n",
            "  Downloading pip-24.0-py3-none-any.whl (2.1 MB)\n",
            "\u001b[2K     \u001b[90m━━━━━━━━━━━━━━━━━━━━━━━━━━━━━━━━━━━━━━━━\u001b[0m \u001b[32m2.1/2.1 MB\u001b[0m \u001b[31m18.1 MB/s\u001b[0m eta \u001b[36m0:00:00\u001b[0m\n",
            "\u001b[?25hInstalling collected packages: pip\n",
            "  Attempting uninstall: pip\n",
            "    Found existing installation: pip 23.1.2\n",
            "    Uninstalling pip-23.1.2:\n",
            "      Successfully uninstalled pip-23.1.2\n",
            "Successfully installed pip-24.0\n",
            "Requirement already satisfied: requests in /usr/local/lib/python3.10/dist-packages (2.31.0)\n",
            "Requirement already satisfied: charset-normalizer<4,>=2 in /usr/local/lib/python3.10/dist-packages (from requests) (3.3.2)\n",
            "Requirement already satisfied: idna<4,>=2.5 in /usr/local/lib/python3.10/dist-packages (from requests) (3.7)\n",
            "Requirement already satisfied: urllib3<3,>=1.21.1 in /usr/local/lib/python3.10/dist-packages (from requests) (2.0.7)\n",
            "Requirement already satisfied: certifi>=2017.4.17 in /usr/local/lib/python3.10/dist-packages (from requests) (2024.2.2)\n",
            "\u001b[33mWARNING: Running pip as the 'root' user can result in broken permissions and conflicting behaviour with the system package manager. It is recommended to use a virtual environment instead: https://pip.pypa.io/warnings/venv\u001b[0m\u001b[33m\n",
            "\u001b[0mRequirement already satisfied: beautifulsoup4 in /usr/local/lib/python3.10/dist-packages (4.12.3)\n",
            "Requirement already satisfied: soupsieve>1.2 in /usr/local/lib/python3.10/dist-packages (from beautifulsoup4) (2.5)\n",
            "\u001b[33mWARNING: Running pip as the 'root' user can result in broken permissions and conflicting behaviour with the system package manager. It is recommended to use a virtual environment instead: https://pip.pypa.io/warnings/venv\u001b[0m\u001b[33m\n",
            "\u001b[0mRequirement already satisfied: pandas in /usr/local/lib/python3.10/dist-packages (2.0.3)\n",
            "Requirement already satisfied: python-dateutil>=2.8.2 in /usr/local/lib/python3.10/dist-packages (from pandas) (2.8.2)\n",
            "Requirement already satisfied: pytz>=2020.1 in /usr/local/lib/python3.10/dist-packages (from pandas) (2023.4)\n",
            "Requirement already satisfied: tzdata>=2022.1 in /usr/local/lib/python3.10/dist-packages (from pandas) (2024.1)\n",
            "Requirement already satisfied: numpy>=1.21.0 in /usr/local/lib/python3.10/dist-packages (from pandas) (1.25.2)\n",
            "Requirement already satisfied: six>=1.5 in /usr/local/lib/python3.10/dist-packages (from python-dateutil>=2.8.2->pandas) (1.16.0)\n",
            "\u001b[33mWARNING: Running pip as the 'root' user can result in broken permissions and conflicting behaviour with the system package manager. It is recommended to use a virtual environment instead: https://pip.pypa.io/warnings/venv\u001b[0m\u001b[33m\n",
            "\u001b[0m"
          ]
        }
      ],
      "source": [
        "!pip install --upgrade pip\n",
        "!pip install requests\n",
        "!pip install beautifulsoup4\n",
        "!pip install pandas"
      ]
    },
    {
      "cell_type": "code",
      "source": [
        "import requests\n",
        "from bs4 import BeautifulSoup\n",
        "\n",
        "def get_web_html(url: str) -> BeautifulSoup:\n",
        "    \"\"\"\n",
        "    This method gets the HTML from a website using scrapping.\n",
        "\n",
        "    Args:\n",
        "        url: URL to scrape.\n",
        "\n",
        "    Returns:\n",
        "        A BeautifulSoup object with the HTML.\n",
        "    \"\"\"\n",
        "    # headers to avoid 403 error, cos' IMDb blocks requests from bots\n",
        "    headers = {\n",
        "        \"User-Agent\": \"Mozilla/5.0 (Windows NT 10.0; Win64; x64) AppleWebKit/537.36 (KHTML, like Gecko) Chrome/58.0.3029.110 Safari/537.3\"\n",
        "    }\n",
        "\n",
        "    # get HTML and save it in a variable\n",
        "    response = requests.get(url, headers=headers)\n",
        "    return BeautifulSoup(response.text, \"html.parser\")"
      ],
      "metadata": {
        "id": "Gh2Axv4TzU9r"
      },
      "execution_count": null,
      "outputs": []
    },
    {
      "cell_type": "code",
      "source": [
        "from bs4 import BeautifulSoup\n",
        "\n",
        "\n",
        "def get_title_year(movie_data: BeautifulSoup) -> tuple:\n",
        "    \"\"\"\n",
        "    This methog gets the title, year, and link of a movie data using scrapping.\n",
        "\n",
        "    Args:\n",
        "        movie_data: BeautifulSoup object with movie data.\n",
        "\n",
        "    Returns:\n",
        "        A tuple with title, year, and link.\n",
        "    \"\"\"\n",
        "    # process main title of subdivission\n",
        "    base_url = \"https://www.imdb.com\"\n",
        "    ref_data = movie_data.find(\"a\")\n",
        "    title = ref_data.text.split(\"(\")[0].strip()\n",
        "    year = ref_data.text.split(\"(\")[1].replace(\")\", \"\")\n",
        "    link = base_url + ref_data[\"href\"]\n",
        "    return title, year, link\n",
        "\n",
        "\n",
        "def get_genre_actors(movie_data: BeautifulSoup) -> list:\n",
        "    \"\"\"\n",
        "    This method gets genre and actors from a movie data using scrapping.\n",
        "\n",
        "    Args:\n",
        "        movie_data: BeautifulSoup object with movie data.\n",
        "\n",
        "    Returns:\n",
        "        A list with genre and actors.\n",
        "    \"\"\"\n",
        "    # process ul tags to get genre and actors\n",
        "    data = []\n",
        "    ul_tags = movie_data.find_all(\"ul\")\n",
        "    for ul_tag in ul_tags:\n",
        "        temp = []\n",
        "        for li_tag in ul_tag.find_all(\"li\"):\n",
        "            temp.append(li_tag.find(\"span\").get_text())\n",
        "        data.append(\", \".join(temp))\n",
        "    return data"
      ],
      "metadata": {
        "id": "KUYB9TPkzfbT"
      },
      "execution_count": null,
      "outputs": []
    },
    {
      "cell_type": "code",
      "source": [
        "from bs4 import BeautifulSoup\n",
        "import pandas as pd\n",
        "\n",
        "\n",
        "def generate_dataframe(url: str) -> pd.DataFrame:\n",
        "    \"\"\"\n",
        "    This method generates a DataFrame with movie data from IMDb.\n",
        "\n",
        "    Args:\n",
        "        url: URL to scrape.\n",
        "\n",
        "    Returns:\n",
        "        A DataFrame with movie data.\n",
        "    \"\"\"\n",
        "    # movies datastructure definition\n",
        "    imdb = get_web_html(url)\n",
        "    movies = []\n",
        "    movies_metadata = [\"Title\", \"Year\", \"Genre\", \"Actors\"]\n",
        "\n",
        "    # process HTML using scrapping going to each division with the class ipc-metadata-list-summary-item__tc\n",
        "    movies_html = imdb.find_all(\"div\", class_=\"ipc-metadata-list-summary-item__tc\")\n",
        "    for movie in movies_html:\n",
        "        # get each movie data into a clean html structure\n",
        "        movie_data = BeautifulSoup(str(movie), \"html.parser\")\n",
        "\n",
        "        # get movie data\n",
        "        title, year, link = get_title_year(movie_data)\n",
        "        data = get_genre_actors(movie_data)\n",
        "\n",
        "        # create a dictionary to have a nice data movie structure\n",
        "        movie_clean_data = {\n",
        "            \"Title\": title,\n",
        "            \"Year\": year,\n",
        "            \"Genre\": data[0],\n",
        "            \"Actors\": data[1] if len(data) > 1 else \"\",\n",
        "        }\n",
        "        # create a list of dictionaries to create a DataFrame\n",
        "        movies.append(movie_clean_data)\n",
        "\n",
        "    # create movies dataframe\n",
        "    return pd.DataFrame(movies, columns=movies_metadata)\n",
        "\n",
        "# ================================ MAIN =================================== #\n",
        "# url to scrape\n",
        "url = \"https://www.imdb.com/calendar/?ref_=rlm&region=US&type=MOVIE\"\n",
        "movies_df = generate_dataframe(url)\n",
        "print(movies_df.head(3))\n"
      ],
      "metadata": {
        "colab": {
          "base_uri": "https://localhost:8080/"
        },
        "id": "gGyOoLcuzrKa",
        "outputId": "e4b2e2d0-2ba6-4c05-e83d-129eb13bdcd7"
      },
      "execution_count": null,
      "outputs": [
        {
          "output_type": "stream",
          "name": "stdout",
          "text": [
            "           Title  Year                         Genre  \\\n",
            "0  芙莉歐莎：瘋狂麥斯傳奇篇章  2024     Action, Adventure, Sci-Fi   \n",
            "1      加菲貓：農場大冒險  2024  Animation, Adventure, Comedy   \n",
            "2          Sight  2023     Biography, Drama, History   \n",
            "\n",
            "                                              Actors  \n",
            "0  Anya Taylor-Joy, Chris Hemsworth, Tom Burke, A...  \n",
            "1  Chris Pratt, Samuel L. Jackson, Hannah Wadding...  \n",
            "2  Terry Chen, Greg Kinnear, Natasha Mumba, Fionn...  \n"
          ]
        }
      ]
    },
    {
      "cell_type": "code",
      "source": [
        "filtered_movies_df = movies_df[movies_df['Title'] == 'Ezra']\n",
        "print(filtered_movies_df)"
      ],
      "metadata": {
        "colab": {
          "base_uri": "https://localhost:8080/"
        },
        "id": "ripst85oz8Yi",
        "outputId": "b898e4eb-42dd-416b-a04d-8ff660657e08"
      },
      "execution_count": null,
      "outputs": [
        {
          "output_type": "stream",
          "name": "stdout",
          "text": [
            "  Title  Year          Genre  \\\n",
            "8  Ezra  2023  Comedy, Drama   \n",
            "\n",
            "                                              Actors  \n",
            "8  Robert De Niro, Vera Farmiga, Tony Goldwyn, Ro...  \n"
          ]
        }
      ]
    },
    {
      "cell_type": "code",
      "source": [
        "filtered_movies_df = movies_df[movies_df['Genre'].str.contains('Thriller', na=False)]\n",
        "print(filtered_movies_df.head(3))"
      ],
      "metadata": {
        "colab": {
          "base_uri": "https://localhost:8080/"
        },
        "id": "boUf_UpD1Kh6",
        "outputId": "cc8479af-5e8c-49e4-cd22-35bec894c580"
      },
      "execution_count": null,
      "outputs": [
        {
          "output_type": "stream",
          "name": "stdout",
          "text": [
            "             Title  Year                    Genre  \\\n",
            "11  April 29, 1992  2024  Action, Drama, Thriller   \n",
            "\n",
            "                                               Actors  \n",
            "11  Ray Liotta, Scott Eastwood, Tyrese Gibson, Dyl...  \n"
          ]
        }
      ]
    },
    {
      "cell_type": "markdown",
      "source": [],
      "metadata": {
        "id": "3pGR6HvB12HB"
      }
    },
    {
      "cell_type": "code",
      "source": [
        "first_question = input(\"Do yo hace so movie that you like to search(yes or not)?\")\n",
        "if(first_question == \"yes\"):\n",
        "  name_movie = input(\"What is the name of the movie?\")\n",
        "  filtered_movies_df = movies_df[movies_df['Title'] == name_movie]\n",
        "  print(filtered_movies_df)\n",
        "\n",
        "else:\n",
        "  number = input(\"Do you like some movie for: 1.Year 2.Genre 3.actors 4.Do you like that the system shows you some movies in tendence?\")\n",
        "  if(number ==\"1\"):\n",
        "    year = input(\"What year do you search the movie?\")\n",
        "    filtered_movies_df = movies_df[movies_df['Year'] == year]\n",
        "    print(filtered_movies_df.head(3))\n",
        "\n",
        "  elif(number ==\"2\"):\n",
        "    genre = input(\"What genre do you search?\")\n",
        "    filtered_movies_df = movies_df[movies_df['Genre'] == genre]\n",
        "    print(filtered_movies_df.head(3))\n",
        "\n",
        "  elif(number ==\"3\"):\n",
        "    actors = input(\"What is the name of the actor that you like to search?\")\n",
        "    filtered_movies_df = movies_df[movies_df['Genre'].str.contains(actors, na=False)]\n",
        "    print(filtered_movies_df.head)\n",
        "\n",
        "  elif(number ==\"4\"):\n",
        "    movies_df = generate_dataframe(url)\n",
        "    print(movies_df.head(10))\n"
      ],
      "metadata": {
        "colab": {
          "base_uri": "https://localhost:8080/"
        },
        "id": "WGJgTbPZ2Vpa",
        "outputId": "70a334b7-72bb-49d0-cfc3-5940dde1d7db"
      },
      "execution_count": null,
      "outputs": [
        {
          "output_type": "stream",
          "name": "stdout",
          "text": [
            "Do yo hace so movie that you like to search(yes or not)?not\n",
            "Do you like some movie for: 1.Year 2.Genre 3.actors 4.Do you like that the system shows you some movies in tendence?1\n",
            "What year do you search the movie?2023\n",
            "     Title  Year                      Genre  \\\n",
            "2    Sight  2023  Biography, Drama, History   \n",
            "3  教宗家的小兒子  2023             Drama, History   \n",
            "8     Ezra  2023              Comedy, Drama   \n",
            "\n",
            "                                              Actors  \n",
            "2  Terry Chen, Greg Kinnear, Natasha Mumba, Fionn...  \n",
            "3  Paolo Pierobon, Fausto Russo Alesi, Barbara Ro...  \n",
            "8  Robert De Niro, Vera Farmiga, Tony Goldwyn, Ro...  \n"
          ]
        }
      ]
    }
  ]
}